{
 "cells": [
  {
   "cell_type": "markdown",
   "id": "b9fabbc8",
   "metadata": {},
   "source": [
    "# Machine Learning | Project 1 | 2021/22\n",
    "\n",
    "- João Santos, 76912\n",
    "- João Carvalho, \n",
    "\n",
    "## Dataset\n",
    "\n",
    "https://www.kaggle.com/datasets/fedesoriano/stroke-prediction-dataset?resource=download"
   ]
  }
 ],
 "metadata": {
  "kernelspec": {
   "display_name": "Python 3 (ipykernel)",
   "language": "python",
   "name": "python3"
  },
  "language_info": {
   "codemirror_mode": {
    "name": "ipython",
    "version": 3
   },
   "file_extension": ".py",
   "mimetype": "text/x-python",
   "name": "python",
   "nbconvert_exporter": "python",
   "pygments_lexer": "ipython3",
   "version": "3.9.7"
  }
 },
 "nbformat": 4,
 "nbformat_minor": 5
}
